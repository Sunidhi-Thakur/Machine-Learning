{
 "cells": [
  {
   "cell_type": "markdown",
   "metadata": {},
   "source": [
    "# DatetimeIndex"
   ]
  },
  {
   "cell_type": "code",
   "execution_count": 1,
   "metadata": {},
   "outputs": [],
   "source": [
    "import pandas as pd"
   ]
  },
  {
   "cell_type": "code",
   "execution_count": 6,
   "metadata": {},
   "outputs": [],
   "source": [
    "df1 = pd.read_csv('Startups.csv')\n",
    "df = df1.dropna()"
   ]
  },
  {
   "cell_type": "code",
   "execution_count": 7,
   "metadata": {},
   "outputs": [
    {
     "data": {
      "text/html": [
       "<div>\n",
       "<style scoped>\n",
       "    .dataframe tbody tr th:only-of-type {\n",
       "        vertical-align: middle;\n",
       "    }\n",
       "\n",
       "    .dataframe tbody tr th {\n",
       "        vertical-align: top;\n",
       "    }\n",
       "\n",
       "    .dataframe thead th {\n",
       "        text-align: right;\n",
       "    }\n",
       "</style>\n",
       "<table border=\"1\" class=\"dataframe\">\n",
       "  <thead>\n",
       "    <tr style=\"text-align: right;\">\n",
       "      <th></th>\n",
       "      <th>Date</th>\n",
       "      <th>R&amp;D Spend</th>\n",
       "      <th>Marketing Spend</th>\n",
       "      <th>Profit</th>\n",
       "    </tr>\n",
       "  </thead>\n",
       "  <tbody>\n",
       "    <tr>\n",
       "      <th>0</th>\n",
       "      <td>01-07-2019</td>\n",
       "      <td>165349.0</td>\n",
       "      <td>136897.0</td>\n",
       "      <td>192261.0</td>\n",
       "    </tr>\n",
       "    <tr>\n",
       "      <th>1</th>\n",
       "      <td>02-07-2019</td>\n",
       "      <td>133848.0</td>\n",
       "      <td>151377.0</td>\n",
       "      <td>191792.0</td>\n",
       "    </tr>\n",
       "    <tr>\n",
       "      <th>2</th>\n",
       "      <td>03-07-2019</td>\n",
       "      <td>153441.0</td>\n",
       "      <td>327468.0</td>\n",
       "      <td>182901.0</td>\n",
       "    </tr>\n",
       "    <tr>\n",
       "      <th>3</th>\n",
       "      <td>04-07-2019</td>\n",
       "      <td>144372.0</td>\n",
       "      <td>63338.0</td>\n",
       "      <td>166187.0</td>\n",
       "    </tr>\n",
       "    <tr>\n",
       "      <th>4</th>\n",
       "      <td>05-07-2019</td>\n",
       "      <td>142107.0</td>\n",
       "      <td>91391.0</td>\n",
       "      <td>156991.0</td>\n",
       "    </tr>\n",
       "    <tr>\n",
       "      <th>5</th>\n",
       "      <td>08-07-2019</td>\n",
       "      <td>131876.0</td>\n",
       "      <td>99814.0</td>\n",
       "      <td>155752.0</td>\n",
       "    </tr>\n",
       "    <tr>\n",
       "      <th>6</th>\n",
       "      <td>09-07-2019</td>\n",
       "      <td>134615.0</td>\n",
       "      <td>147198.0</td>\n",
       "      <td>152211.0</td>\n",
       "    </tr>\n",
       "    <tr>\n",
       "      <th>7</th>\n",
       "      <td>10-07-2019</td>\n",
       "      <td>130298.0</td>\n",
       "      <td>145530.0</td>\n",
       "      <td>149759.0</td>\n",
       "    </tr>\n",
       "    <tr>\n",
       "      <th>8</th>\n",
       "      <td>11-07-2019</td>\n",
       "      <td>120542.0</td>\n",
       "      <td>148718.0</td>\n",
       "      <td>191050.0</td>\n",
       "    </tr>\n",
       "    <tr>\n",
       "      <th>9</th>\n",
       "      <td>12-07-2019</td>\n",
       "      <td>123334.0</td>\n",
       "      <td>108679.0</td>\n",
       "      <td>156122.0</td>\n",
       "    </tr>\n",
       "  </tbody>\n",
       "</table>\n",
       "</div>"
      ],
      "text/plain": [
       "         Date  R&D Spend  Marketing Spend    Profit\n",
       "0  01-07-2019   165349.0         136897.0  192261.0\n",
       "1  02-07-2019   133848.0         151377.0  191792.0\n",
       "2  03-07-2019   153441.0         327468.0  182901.0\n",
       "3  04-07-2019   144372.0          63338.0  166187.0\n",
       "4  05-07-2019   142107.0          91391.0  156991.0\n",
       "5  08-07-2019   131876.0          99814.0  155752.0\n",
       "6  09-07-2019   134615.0         147198.0  152211.0\n",
       "7  10-07-2019   130298.0         145530.0  149759.0\n",
       "8  11-07-2019   120542.0         148718.0  191050.0\n",
       "9  12-07-2019   123334.0         108679.0  156122.0"
      ]
     },
     "execution_count": 7,
     "metadata": {},
     "output_type": "execute_result"
    }
   ],
   "source": [
    "df"
   ]
  },
  {
   "cell_type": "code",
   "execution_count": 8,
   "metadata": {},
   "outputs": [
    {
     "data": {
      "text/plain": [
       "Date                object\n",
       "R&D Spend          float64\n",
       "Marketing Spend    float64\n",
       "Profit             float64\n",
       "dtype: object"
      ]
     },
     "execution_count": 8,
     "metadata": {},
     "output_type": "execute_result"
    }
   ],
   "source": [
    "df.dtypes"
   ]
  },
  {
   "cell_type": "code",
   "execution_count": 9,
   "metadata": {},
   "outputs": [
    {
     "data": {
      "text/plain": [
       "str"
      ]
     },
     "execution_count": 9,
     "metadata": {},
     "output_type": "execute_result"
    }
   ],
   "source": [
    "type(df.Date[0])"
   ]
  },
  {
   "cell_type": "code",
   "execution_count": 13,
   "metadata": {},
   "outputs": [
    {
     "data": {
      "text/html": [
       "<div>\n",
       "<style scoped>\n",
       "    .dataframe tbody tr th:only-of-type {\n",
       "        vertical-align: middle;\n",
       "    }\n",
       "\n",
       "    .dataframe tbody tr th {\n",
       "        vertical-align: top;\n",
       "    }\n",
       "\n",
       "    .dataframe thead th {\n",
       "        text-align: right;\n",
       "    }\n",
       "</style>\n",
       "<table border=\"1\" class=\"dataframe\">\n",
       "  <thead>\n",
       "    <tr style=\"text-align: right;\">\n",
       "      <th></th>\n",
       "      <th>Date</th>\n",
       "      <th>R&amp;D Spend</th>\n",
       "      <th>Marketing Spend</th>\n",
       "      <th>Profit</th>\n",
       "    </tr>\n",
       "  </thead>\n",
       "  <tbody>\n",
       "    <tr>\n",
       "      <th>0</th>\n",
       "      <td>2019-01-07</td>\n",
       "      <td>165349.0</td>\n",
       "      <td>136897.0</td>\n",
       "      <td>192261.0</td>\n",
       "    </tr>\n",
       "    <tr>\n",
       "      <th>1</th>\n",
       "      <td>2019-02-07</td>\n",
       "      <td>133848.0</td>\n",
       "      <td>151377.0</td>\n",
       "      <td>191792.0</td>\n",
       "    </tr>\n",
       "    <tr>\n",
       "      <th>2</th>\n",
       "      <td>2019-03-07</td>\n",
       "      <td>153441.0</td>\n",
       "      <td>327468.0</td>\n",
       "      <td>182901.0</td>\n",
       "    </tr>\n",
       "    <tr>\n",
       "      <th>3</th>\n",
       "      <td>2019-04-07</td>\n",
       "      <td>144372.0</td>\n",
       "      <td>63338.0</td>\n",
       "      <td>166187.0</td>\n",
       "    </tr>\n",
       "    <tr>\n",
       "      <th>4</th>\n",
       "      <td>2019-05-07</td>\n",
       "      <td>142107.0</td>\n",
       "      <td>91391.0</td>\n",
       "      <td>156991.0</td>\n",
       "    </tr>\n",
       "    <tr>\n",
       "      <th>5</th>\n",
       "      <td>2019-08-07</td>\n",
       "      <td>131876.0</td>\n",
       "      <td>99814.0</td>\n",
       "      <td>155752.0</td>\n",
       "    </tr>\n",
       "    <tr>\n",
       "      <th>6</th>\n",
       "      <td>2019-09-07</td>\n",
       "      <td>134615.0</td>\n",
       "      <td>147198.0</td>\n",
       "      <td>152211.0</td>\n",
       "    </tr>\n",
       "    <tr>\n",
       "      <th>7</th>\n",
       "      <td>2019-10-07</td>\n",
       "      <td>130298.0</td>\n",
       "      <td>145530.0</td>\n",
       "      <td>149759.0</td>\n",
       "    </tr>\n",
       "    <tr>\n",
       "      <th>8</th>\n",
       "      <td>2019-11-07</td>\n",
       "      <td>120542.0</td>\n",
       "      <td>148718.0</td>\n",
       "      <td>191050.0</td>\n",
       "    </tr>\n",
       "    <tr>\n",
       "      <th>9</th>\n",
       "      <td>2019-12-07</td>\n",
       "      <td>123334.0</td>\n",
       "      <td>108679.0</td>\n",
       "      <td>156122.0</td>\n",
       "    </tr>\n",
       "  </tbody>\n",
       "</table>\n",
       "</div>"
      ],
      "text/plain": [
       "        Date  R&D Spend  Marketing Spend    Profit\n",
       "0 2019-01-07   165349.0         136897.0  192261.0\n",
       "1 2019-02-07   133848.0         151377.0  191792.0\n",
       "2 2019-03-07   153441.0         327468.0  182901.0\n",
       "3 2019-04-07   144372.0          63338.0  166187.0\n",
       "4 2019-05-07   142107.0          91391.0  156991.0\n",
       "5 2019-08-07   131876.0          99814.0  155752.0\n",
       "6 2019-09-07   134615.0         147198.0  152211.0\n",
       "7 2019-10-07   130298.0         145530.0  149759.0\n",
       "8 2019-11-07   120542.0         148718.0  191050.0\n",
       "9 2019-12-07   123334.0         108679.0  156122.0"
      ]
     },
     "execution_count": 13,
     "metadata": {},
     "output_type": "execute_result"
    }
   ],
   "source": [
    "df1 = pd.read_csv('Startups.csv', parse_dates = ['Date'])\n",
    "df = df1.dropna()\n",
    "df"
   ]
  },
  {
   "cell_type": "code",
   "execution_count": 14,
   "metadata": {},
   "outputs": [
    {
     "data": {
      "text/plain": [
       "Date               datetime64[ns]\n",
       "R&D Spend                 float64\n",
       "Marketing Spend           float64\n",
       "Profit                    float64\n",
       "dtype: object"
      ]
     },
     "execution_count": 14,
     "metadata": {},
     "output_type": "execute_result"
    }
   ],
   "source": [
    "df.dtypes"
   ]
  },
  {
   "cell_type": "code",
   "execution_count": 15,
   "metadata": {},
   "outputs": [
    {
     "data": {
      "text/plain": [
       "pandas._libs.tslibs.timestamps.Timestamp"
      ]
     },
     "execution_count": 15,
     "metadata": {},
     "output_type": "execute_result"
    }
   ],
   "source": [
    "type(df.Date[0])"
   ]
  }
 ],
 "metadata": {
  "kernelspec": {
   "display_name": "Python 3",
   "language": "python",
   "name": "python3"
  },
  "language_info": {
   "codemirror_mode": {
    "name": "ipython",
    "version": 3
   },
   "file_extension": ".py",
   "mimetype": "text/x-python",
   "name": "python",
   "nbconvert_exporter": "python",
   "pygments_lexer": "ipython3",
   "version": "3.8.3"
  }
 },
 "nbformat": 4,
 "nbformat_minor": 4
}
